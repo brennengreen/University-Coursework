{
 "cells": [
  {
   "cell_type": "code",
   "execution_count": 1,
   "metadata": {},
   "outputs": [],
   "source": [
    "import torch\n",
    "import torch.nn\n",
    "from matplotlib import pyplot as plt\n",
    "import numpy as np\n",
    "from torchvision import datasets, transforms"
   ]
  },
  {
   "cell_type": "code",
   "execution_count": null,
   "metadata": {},
   "outputs": [],
   "source": [
    "image_sample = plt.imread('Bearing_Images/Ball/B_0_1')\n",
    "plt.imshow(image_sample)"
   ]
  },
  {
   "cell_type": "code",
   "execution_count": null,
   "metadata": {},
   "outputs": [],
   "source": [
    "mean_nums = [0.485, 0.456, 0.406]\n",
    "std_nums = [0.229, 0.224, 0.225]\n",
    "resize_size = 256\n",
    "center_crop = 224\n",
    "data_transforms = transforms.Compose([\n",
    "    transforms.Resize(resize_size), \n",
    "    transforms.CenterCrop(center_crop),\n",
    "    transforms.ToTensor(), # Convert to tensor and normalize pixel values to [0, 1]\n",
    "    transforms.Normalize(mean_nums, std_nums) # Normalize pixel values to a normal distribution\n",
    "    \n",
    "])\n",
    "data = datasets.ImageFolder('', transform=data_transforms) # Data also contains labelling for the data"
   ]
  },
  {
   "cell_type": "code",
   "execution_count": null,
   "metadata": {},
   "outputs": [],
   "source": [
    "# training and data splitting\n",
    "index = list(range(data))\n",
    "breakpoint = np.floor(0.7*len(data))\n",
    "np.random.shuffle(index)\n",
    "train_index = index[:breakpoint]\n",
    "test_index = index[breakpoint:]\n",
    "\n",
    "train_loader = torch.utils.data.DataLoader(data, batch_size = 20, sample = )"
   ]
  }
 ],
 "metadata": {
  "kernelspec": {
   "display_name": "Python 3",
   "language": "python",
   "name": "python3"
  },
  "language_info": {
   "codemirror_mode": {
    "name": "ipython",
    "version": 3
   },
   "file_extension": ".py",
   "mimetype": "text/x-python",
   "name": "python",
   "nbconvert_exporter": "python",
   "pygments_lexer": "ipython3",
   "version": "3.8.5"
  }
 },
 "nbformat": 4,
 "nbformat_minor": 4
}
