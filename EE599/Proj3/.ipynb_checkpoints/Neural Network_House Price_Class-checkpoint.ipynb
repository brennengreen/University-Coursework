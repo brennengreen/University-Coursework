{
 "cells": [
  {
   "cell_type": "code",
   "execution_count": 31,
   "metadata": {},
   "outputs": [],
   "source": [
    "import numpy as np\n",
    "import pandas as pd\n",
    "from matplotlib import pyplot as plt\n",
    "np.random.seed(1)"
   ]
  },
  {
   "cell_type": "code",
   "execution_count": 32,
   "metadata": {},
   "outputs": [
    {
     "name": "stdout",
     "output_type": "stream",
     "text": [
      "(21613, 21)\n"
     ]
    }
   ],
   "source": [
    "# load data\n",
    "data = pd.read_csv('House_Data.csv') #data stored in a structure DataFrame\n",
    "print(data.shape)"
   ]
  },
  {
   "cell_type": "code",
   "execution_count": 33,
   "metadata": {},
   "outputs": [
    {
     "name": "stdout",
     "output_type": "stream",
     "text": [
      "False\n",
      "(1001, 3) (1001,)\n"
     ]
    }
   ],
   "source": [
    "# converting dataframe to numpy array\n",
    "#X = data.iloc[:,3:]\n",
    "X = data.loc[:1000,['sqft_living','sqft_lot','sqft_above']]\n",
    "Y = data.loc[:1000,'price']\n",
    "\n",
    "print(np.any(X.isnull()==True))\n",
    "\n",
    "X = X.to_numpy()\n",
    "Y = Y.to_numpy() #convert to numpy array\n",
    "print(X.shape, Y.shape)\n"
   ]
  },
  {
   "cell_type": "code",
   "execution_count": 34,
   "metadata": {},
   "outputs": [],
   "source": [
    "#data normalization, to make the contribution from factors to prediciton equal, to [0 1], to [0.05 0.95], (X-Xmin)/(Xmax-Xmin)*0.9+0.05\n",
    "X_Norm = np.zeros((X.shape[0],X.shape[1]))\n",
    "for i in range(X.shape[1]):\n",
    "    data_ = X[:,i]\n",
    "    X_Norm[:,i] = (data_-np.amin(data_))/(np.amax(data_)-np.amin(data_))\n",
    "\n",
    "Y_Min = np.min(Y)\n",
    "Y_Max = np.max(Y)\n",
    "Y_Norm = (Y-Y_Min)/(Y_Max-Y_Min) #because of the output range of activiation function"
   ]
  },
  {
   "cell_type": "code",
   "execution_count": 35,
   "metadata": {},
   "outputs": [
    {
     "name": "stdout",
     "output_type": "stream",
     "text": [
      "(300, 3) (300, 1)\n"
     ]
    }
   ],
   "source": [
    "# data splitting, build training and testing data; 70% for training, 30% for testing\n",
    "m = 0.7 * X.shape[0]\n",
    "m = np.ceil(m) # round the number, or using floor fuction\n",
    "m = int(m)\n",
    "X_Train = X_Norm[:m,:]\n",
    "Y_Train = Y_Norm[:m]\n",
    "X_Test = X_Norm[m:,:]\n",
    "Y_Test = Y_Norm[m:]\n",
    "Y_Train = np.reshape(Y_Train,(len(Y_Train),1))\n",
    "Y_Test = np.reshape(Y_Test,(len(Y_Test),1))\n",
    "print(X_Test.shape, Y_Test.shape)"
   ]
  },
  {
   "cell_type": "code",
   "execution_count": 36,
   "metadata": {},
   "outputs": [],
   "source": [
    "# define sigmoid function and derivation\n",
    "def sigmoid(x):\n",
    "    output = 1/(1+np.exp(-x))\n",
    "    return output\n",
    "def sigmoid_der(output):\n",
    "    return output*(1-output)"
   ]
  },
  {
   "cell_type": "code",
   "execution_count": 37,
   "metadata": {},
   "outputs": [],
   "source": [
    "#define a 3-layer perceptron, feedforward and back-propagation\n",
    "class NeuralNetwork():\n",
    "    def __init__(self,x,y,layer_numbers,learning_rate,iterations): #layer_numbers: [6, 10, 1], role of initialization funcition is make local variables as global variables\n",
    "        self.input = x\n",
    "        self.y = y\n",
    "        self.layer_numbers = layer_numbers\n",
    "        self.learning_rate = learning_rate\n",
    "        self.iterations = iterations\n",
    "        #define network structure\n",
    "        self.W0 = np.random.rand(self.layer_numbers[0], self.layer_numbers[1]) #6*10\n",
    "        self.W1 = np.random.rand(self.layer_numbers[1], self.layer_numbers[2]) #10*1\n",
    "        #for the purpose of learning curve plot\n",
    "        self.iteration = []\n",
    "        self.error_history = []\n",
    "    \n",
    "    def forward(self): #with self as input variable, we can call all variables that starts with self.\n",
    "        self.hidden_output = sigmoid(np.dot(self.input, self.W0)) #sigmoid(w0*x)\n",
    "        self.output = sigmoid(np.dot(self.hidden_output, self.W1)) #sigmoid(w1*h)\n",
    "    \n",
    "    def backpropagation(self):\n",
    "        self.loss=np.sum((self.output-self.y)**2)/2\n",
    "        d_W1 = np.dot(self.hidden_output.T, (self.output-self.y)*sigmoid_der(self.output))  #hT*(y-yactual)y(1-y)\n",
    "        layer_error1 = np.dot((self.output-self.y)*sigmoid_der(self.output),self.W1.T) #dJ/dh=dJ/dy*dy/dh\n",
    "        d_W0 = np.dot(self.input.T, layer_error1*sigmoid_der(self.hidden_output)) #dJ/dh*dh/dW0\n",
    "        \n",
    "        self.W0 = self.W0 - self.learning_rate*d_W0\n",
    "        self.W1 = self.W1 - self.learning_rate*d_W1 \n",
    "    \n",
    "    def train(self):\n",
    "        for i in range(self.iterations):\n",
    "            self.forward()\n",
    "            self.backpropagation()\n",
    "            self.iteration.append(i)\n",
    "            self.error_history.append(self.loss)\n",
    "    \n",
    "    def predict(self,new_data):\n",
    "        hidden_output = sigmoid(np.dot(new_data, self.W0)) #sigmoid(w0*x)\n",
    "        output = sigmoid(np.dot(hidden_output, self.W1)) #sigmoid(w1*h)\n",
    "        return output"
   ]
  },
  {
   "cell_type": "code",
   "execution_count": 38,
   "metadata": {},
   "outputs": [
    {
     "data": {
      "text/plain": [
       "[<matplotlib.lines.Line2D at 0x16cf9524a88>]"
      ]
     },
     "execution_count": 38,
     "metadata": {},
     "output_type": "execute_result"
    },
    {
     "data": {
      "image/png": "[encoded data removed]",
      "text/plain": [
       "<Figure size 432x288 with 1 Axes>"
      ]
     },
     "metadata": {
      "needs_background": "light"
     },
     "output_type": "display_data"
    }
   ],
   "source": [
    "layer_numbers = [3,10,1] #2*input variable numbers +1\n",
    "learning_rate = 0.01\n",
    "iterations = 1000\n",
    "Net = NeuralNetwork(X_Train,Y_Train,layer_numbers,learning_rate,iterations) #build on object that inherits the class\n",
    "Net.train()\n",
    "plt.figure()\n",
    "plt.plot(Net.iteration,Net.error_history)\n"
   ]
  },
  {
   "cell_type": "code",
   "execution_count": 39,
   "metadata": {},
   "outputs": [
    {
     "name": "stdout",
     "output_type": "stream",
     "text": [
      "(300, 1) (300, 1)\n"
     ]
    },
    {
     "data": {
      "text/plain": [
       "(80000.0, 3075000.0)"
      ]
     },
     "execution_count": 39,
     "metadata": {},
     "output_type": "execute_result"
    },
    {
     "data": {
      "image/png": "[encoded data removed]",
      "text/plain": [
       "<Figure size 432x288 with 1 Axes>"
      ]
     },
     "metadata": {
      "needs_background": "light"
     },
     "output_type": "display_data"
    }
   ],
   "source": [
    "#prediction\n",
    "y_predict = Net.predict(X_Test)\n",
    "y_predicted = y_predict*(Y_Max-Y_Min) + Y_Min\n",
    "Y_Test = Y_Test*(Y_Max-Y_Min) + Y_Min\n",
    "print(Y_Test.shape, y_predicted.shape)\n",
    "plt.scatter(Y_Test,y_predicted)\n",
    "plt.xlim(Y_Min,Y_Max)\n",
    "plt.ylim(Y_Min,Y_Max)"
   ]
  },
  {
   "cell_type": "code",
   "execution_count": 40,
   "metadata": {
    "scrolled": false
   },
   "outputs": [
    {
     "data": {
      "text/plain": [
       "0.493324843383537"
      ]
     },
     "execution_count": 40,
     "metadata": {},
     "output_type": "execute_result"
    }
   ],
   "source": [
    "def R2(Y_actual,Y_prediction):\n",
    "    sst=np.sum((Y_actual-Y_actual.mean())**2)\n",
    "    ssr=np.sum((Y_actual-Y_prediction)**2)\n",
    "    r2 = 1-(ssr/sst)\n",
    "    return r2\n",
    "R2(Y_Test,y_predicted)"
   ]
  },
  {
   "cell_type": "code",
   "execution_count": null,
   "metadata": {},
   "outputs": [],
   "source": []
  }
 ],
 "metadata": {
  "kernelspec": {
   "display_name": "Python 3",
   "language": "python",
   "name": "python3"
  },
  "language_info": {
   "codemirror_mode": {
    "name": "ipython",
    "version": 3
   },
   "file_extension": ".py",
   "mimetype": "text/x-python",
   "name": "python",
   "nbconvert_exporter": "python",
   "pygments_lexer": "ipython3",
   "version": "3.7.4"
  }
 },
 "nbformat": 4,
 "nbformat_minor": 4
}
