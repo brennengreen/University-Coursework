{
 "cells": [
  {
   "cell_type": "code",
   "execution_count": 17,
   "metadata": {},
   "outputs": [
    {
     "data": {
      "text/plain": [
       "<torch._C.Generator at 0x24de89fe330>"
      ]
     },
     "execution_count": 17,
     "metadata": {},
     "output_type": "execute_result"
    }
   ],
   "source": [
    "import numpy as np\n",
    "import pandas as pd\n",
    "from matplotlib import pyplot as plt\n",
    "import torch\n",
    "torch.random.manual_seed(4)"
   ]
  },
  {
   "cell_type": "code",
   "execution_count": 18,
   "metadata": {},
   "outputs": [
    {
     "name": "stdout",
     "output_type": "stream",
     "text": [
      "False\n",
      "(1000, 18) (1000,)\n"
     ]
    }
   ],
   "source": [
    "# load data\n",
    "data = pd.read_csv('House_Data.csv') #data stored in a structure DataFrame\n",
    "# converting dataframe to numpy array\n",
    "X = data.iloc[:1000,3:]\n",
    "Y = data.iloc[:1000,2]\n",
    "#X = data.loc[:1000,['sqft_living','sqft_lot','sqft_above']]\n",
    "#Y = data.loc[:1000,'price']\n",
    "\n",
    "print(np.any(X.isnull()==True))\n",
    "\n",
    "X = X.to_numpy()\n",
    "Y = Y.to_numpy() #convert to numpy array\n",
    "print(X.shape, Y.shape)"
   ]
  },
  {
   "cell_type": "code",
   "execution_count": 19,
   "metadata": {},
   "outputs": [],
   "source": [
    "#data normalization, to make the contribution from factors to prediciton equal, to [0 1], to [0.05 0.95], (X-Xmin)/(Xmax-Xmin)*0.9+0.05\n",
    "X_Norm = np.zeros((X.shape[0],X.shape[1]))\n",
    "for i in range(X.shape[1]):\n",
    "    data_ = X[:,i]\n",
    "    X_Norm[:,i] = (data_-np.amin(data_))/(np.amax(data_)-np.amin(data_))\n",
    "\n",
    "Y_Min = np.min(Y)\n",
    "Y_Max = np.max(Y)\n",
    "Y_Norm = (Y-Y_Min)/(Y_Max-Y_Min) #because of the output range of activiation function"
   ]
  },
  {
   "cell_type": "code",
   "execution_count": 20,
   "metadata": {},
   "outputs": [
    {
     "name": "stdout",
     "output_type": "stream",
     "text": [
      "(300, 18) (300, 1)\n"
     ]
    }
   ],
   "source": [
    "# data splitting, build training and testing data; 70% for training, 30% for testing\n",
    "m = 0.7 * X.shape[0]\n",
    "m = np.ceil(m) # round the number, or using floor fuction\n",
    "m = int(m)\n",
    "X_Train = X_Norm[:m,:]\n",
    "Y_Train = Y_Norm[:m]\n",
    "X_Test = X_Norm[m:,:]\n",
    "Y_Test = Y_Norm[m:]\n",
    "Y_Train = np.reshape(Y_Train,(len(Y_Train),1))\n",
    "Y_Test = np.reshape(Y_Test,(len(Y_Test),1))\n",
    "print(X_Test.shape, Y_Test.shape)"
   ]
  },
  {
   "cell_type": "code",
   "execution_count": 21,
   "metadata": {},
   "outputs": [],
   "source": [
    "#convert numpy array to torch tensor\n",
    "X_Train_Tensor = torch.tensor(X_Train).float()\n",
    "X_Test_Tensor = torch.tensor(X_Test).float()\n",
    "Y_Train_Tensor = torch.tensor(Y_Train).float()\n",
    "Y_Test_Tensor = torch.tensor(Y_Test).float()"
   ]
  },
  {
   "cell_type": "code",
   "execution_count": 22,
   "metadata": {},
   "outputs": [],
   "source": [
    "class Net(torch.nn.Module): #inherit functions and operations from existing module\n",
    "    def __init__(self, layer_numbers):\n",
    "        super().__init__()\n",
    "        self.hidden1 = torch.nn.Linear(layer_numbers[0],layer_numbers[1], bias=False)\n",
    "        self.hidden2 = torch.nn.Linear(layer_numbers[1],layer_numbers[2], bias=False)\n",
    "        self.output = torch.nn.Linear(layer_numbers[2],layer_numbers[3], bias=False)\n",
    "        self.sigmoid = torch.nn.Sigmoid()\n",
    "    \n",
    "    def forward(self, x):\n",
    "        x = self.hidden1(x)\n",
    "        x = self.sigmoid(x)\n",
    "        x = self.hidden2(x)\n",
    "        x = self.sigmoid(x)\n",
    "        x = self.output(x)\n",
    "        x = self.sigmoid(x)\n",
    "        return x"
   ]
  },
  {
   "cell_type": "code",
   "execution_count": 23,
   "metadata": {},
   "outputs": [
    {
     "data": {
      "text/plain": [
       "[<matplotlib.lines.Line2D at 0x24dea70ad08>]"
      ]
     },
     "execution_count": 23,
     "metadata": {},
     "output_type": "execute_result"
    },
    {
     "data": {
      "image/png": "[encoded data removed]",
      "text/plain": [
       "<Figure size 432x288 with 1 Axes>"
      ]
     },
     "metadata": {
      "needs_background": "light"
     },
     "output_type": "display_data"
    }
   ],
   "source": [
    "layer_numbers = [18, 40, 40, 1]\n",
    "iterations = 1000 #epoch\n",
    "net = Net(layer_numbers)\n",
    "\n",
    "criterion = torch.nn.MSELoss()\n",
    "optimizer = torch.optim.Adam(net.parameters(), lr=0.01)\n",
    "loss_history = np.zeros(iterations)\n",
    "\n",
    "for iteration in range(iterations):\n",
    "    Y_pred = net(X_Train_Tensor)\n",
    "    \n",
    "    #loss\n",
    "    loss = criterion(Y_pred,Y_Train_Tensor)\n",
    "    #calculate network weights gradients\n",
    "    optimizer.zero_grad() #for all parameters, create corrsponding gradients with 0 values\n",
    "    loss.backward() #backpropagation, claculation of gradients\n",
    "    \n",
    "    #update weigths\n",
    "    optimizer.step()\n",
    "    \n",
    "    loss_history[iteration] = loss\n",
    "plt.plot(np.arange(iterations),loss_history)"
   ]
  },
  {
   "cell_type": "code",
   "execution_count": 24,
   "metadata": {},
   "outputs": [
    {
     "name": "stdout",
     "output_type": "stream",
     "text": [
      "(300, 1) torch.Size([300, 1])\n"
     ]
    },
    {
     "data": {
      "text/plain": [
       "(80000.0, 3075000.0)"
      ]
     },
     "execution_count": 24,
     "metadata": {},
     "output_type": "execute_result"
    },
    {
     "data": {
      "image/png": "[encoded data removed]",
      "text/plain": [
       "<Figure size 432x288 with 1 Axes>"
      ]
     },
     "metadata": {
      "needs_background": "light"
     },
     "output_type": "display_data"
    }
   ],
   "source": [
    "#prediction\n",
    "y_predict = net(X_Test_Tensor)\n",
    "y_predicted = y_predict.detach()*(Y_Max-Y_Min) + Y_Min #detach() leaves us only values of the variable\n",
    "Y_Test = Y_Test*(Y_Max-Y_Min) + Y_Min\n",
    "print(Y_Test.shape, y_predicted.shape)\n",
    "plt.scatter(Y_Test,y_predicted)\n",
    "plt.xlim(Y_Min,Y_Max)\n",
    "plt.ylim(Y_Min,Y_Max)"
   ]
  },
  {
   "cell_type": "code",
   "execution_count": 25,
   "metadata": {},
   "outputs": [
    {
     "data": {
      "text/plain": [
       "0.8019794785018138"
      ]
     },
     "execution_count": 25,
     "metadata": {},
     "output_type": "execute_result"
    }
   ],
   "source": [
    "def R2(Y_actual,Y_prediction):\n",
    "    sst=np.sum((Y_actual-Y_actual.mean())**2)\n",
    "    ssr=np.sum((Y_actual-Y_prediction)**2)\n",
    "    r2 = 1-(ssr/sst)\n",
    "    return r2\n",
    "R2(Y_Test,y_predicted.numpy())"
   ]
  },
  {
   "cell_type": "code",
   "execution_count": null,
   "metadata": {},
   "outputs": [],
   "source": []
  }
 ],
 "metadata": {
  "kernelspec": {
   "display_name": "Python 3",
   "language": "python",
   "name": "python3"
  },
  "language_info": {
   "codemirror_mode": {
    "name": "ipython",
    "version": 3
   },
   "file_extension": ".py",
   "mimetype": "text/x-python",
   "name": "python",
   "nbconvert_exporter": "python",
   "pygments_lexer": "ipython3",
   "version": "3.7.4"
  }
 },
 "nbformat": 4,
 "nbformat_minor": 4
}
